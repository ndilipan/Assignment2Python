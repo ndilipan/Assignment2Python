{
 "cells": [
  {
   "cell_type": "code",
   "execution_count": null,
   "metadata": {},
   "outputs": [],
   "source": []
  },
  {
   "cell_type": "code",
   "execution_count": null,
   "metadata": {},
   "outputs": [],
   "source": []
  },
  {
   "cell_type": "code",
   "execution_count": 130,
   "metadata": {},
   "outputs": [],
   "source": [
    "#Write a Python Program to implement your own myreduce() function which works exactly like\n",
    "#Python's built-in function reduce()\n",
    "\n",
    "def myreduce(fn,iterable,initializer=None):\n",
    "    it = iter(iterable)\n",
    "    initializer = next(it)\n",
    "    accm = initializer\n",
    "    for rd in it:\n",
    "        accm = fn(accm, rd)\n",
    "    return accm"
   ]
  },
  {
   "cell_type": "code",
   "execution_count": 131,
   "metadata": {},
   "outputs": [
    {
     "name": "stdout",
     "output_type": "stream",
     "text": [
      "45\n"
     ]
    }
   ],
   "source": [
    "#calling myreduce\n",
    "print(myreduce(do_sum, range(10)))"
   ]
  },
  {
   "cell_type": "code",
   "execution_count": 132,
   "metadata": {},
   "outputs": [],
   "source": [
    "#Write a Python program to implement your own myfilter() function which works exactly like\n",
    "#Python's built-in function filter()\n",
    "def myfilter(function, sequence):\n",
    "    if function is None:\n",
    "        function = bool\n",
    "    for x in sequence:\n",
    "        if function(x):\n",
    "            yield x"
   ]
  },
  {
   "cell_type": "code",
   "execution_count": 133,
   "metadata": {},
   "outputs": [
    {
     "name": "stdout",
     "output_type": "stream",
     "text": [
      "Prime numbers between 1-10: [3, 5, 7, 9]\n"
     ]
    }
   ],
   "source": [
    "def isPrime(x):\n",
    "    for n in range(2,x):\n",
    "        if x%n==0:\n",
    "            return False\n",
    "        else:\n",
    "            return True\n",
    "        \n",
    "#myfilter calling to check \n",
    "fltrObj=myfilter(isPrime, range(1,10))\n",
    "print ('Prime numbers between 1-10:', list(fltrObj))"
   ]
  },
  {
   "cell_type": "code",
   "execution_count": 134,
   "metadata": {},
   "outputs": [
    {
     "name": "stdout",
     "output_type": "stream",
     "text": [
      "i am happiest man\n"
     ]
    }
   ],
   "source": [
    "#Implement a function longestWord() that takes a list of words and returns the longest one.\n",
    "def longest_word(sequence):\n",
    "    return max(sequence,key=len)   \n",
    "    \n",
    "\n",
    "print(longest_word(['Hello','Dilipan','i am happiest man']))"
   ]
  },
  {
   "cell_type": "code",
   "execution_count": 135,
   "metadata": {},
   "outputs": [
    {
     "name": "stdout",
     "output_type": "stream",
     "text": [
      "ACADGILD =>  ['A', 'C', 'A', 'D', 'G', 'I', 'L', 'D']\n",
      "['x','y','z'] => ['x', 'xx', 'xxx', 'xxxx', 'y', 'yy', 'yyy', 'yyyy', 'z', 'zz', 'zzz', 'zzzz']\n",
      "['x','y','z'] => ['x', 'y', 'z', 'xx', 'yy', 'zz', 'xxx', 'yyy', 'zzz', 'xxxx', 'yyyy', 'zzzz']\n",
      "[2,3,4] =>[[2], [3], [4], [3], [4], [5], [4], [5], [6]]\n",
      "[2,3,4,5] =>[[2, 3, 4, 5], [3, 4, 5, 6], [4, 5, 6, 7], [5, 6, 7, 8]]\n",
      "[1,2,3] =>[(1, 1), (2, 1), (3, 1), (1, 2), (2, 2), (3, 2), (1, 3), (2, 3), (3, 3)]\n"
     ]
    }
   ],
   "source": [
    "#Implement List comprehensions to produce the following lists.\n",
    "#Write List comprehensions to produce the following Lists\n",
    "\n",
    "#1 Split string into characters ['A', 'C', 'A', 'D', 'G', 'I', ’L’, ‘ D’]\n",
    "def split(word): \n",
    "    return list(word) \n",
    "      \n",
    "# Driver code \n",
    "word = 'ACADGILD'\n",
    "print(\"ACADGILD => \", split(word)) \n",
    "\n",
    "#2['x', 'xx', 'xxx', 'xxxx', 'y', 'yy', 'yyy', 'yyyy', 'z', 'zz', 'zzz', 'zzzz']\n",
    "def comp(x):\n",
    "    mylist=[]\n",
    "    for it in x:\n",
    "        for num in range(1,5):\n",
    "            mylist.append(it*num) \n",
    "    return mylist        \n",
    "    \n",
    "        \n",
    "input_list = ['x','y','z']\n",
    "print(\"['x','y','z'] => \" +   str(comp(input_list)))\n",
    "\n",
    "#3['x', 'y', 'z', 'xx', 'yy', 'zz', 'xx', 'yy', 'zz', 'xxxx', 'yyyy', 'zzzz']\n",
    "def compl(x):\n",
    "    mylist=[]\n",
    "    for num in range(1,5):\n",
    "        for it in x:        \n",
    "            mylist.append(it*num) \n",
    "    return mylist        \n",
    "    \n",
    "        \n",
    "input_list = ['x','y','z']\n",
    "print(\"['x','y','z'] => \" +   str(compl(input_list)))\n",
    "\n",
    "#4[[2], [3], [4], [3], [4], [5], [4], [5], [6]]\n",
    "def numl(x):\n",
    "    return [ [item+num] for item in x for num in range(3)]\n",
    "\n",
    "input_list = [2,3,4]\n",
    "print(\"[2,3,4] =>\" +  str(numl(input_list)))\n",
    "\n",
    "#5[[2, 3, 4, 5], [3, 4, 5, 6], [4, 5, 6, 7], [5, 6, 7, 8]]\n",
    "def numli(x):\n",
    "    return [ [item+num for item in input_list] for num in range(4)]\n",
    "\n",
    "input_list = [2,3,4,5]\n",
    "print(\"[2,3,4,5] =>\" +  str(numli(input_list)))\n",
    "\n",
    "#6[(1, 1), (2, 1), (3, 1), (1, 2), (2, 2), (3, 2), (1, 3), (2, 3), (3, 3)]\n",
    "def arr(x):\n",
    "    return [ (b,a) for a in x for b in x]\n",
    "\n",
    "inp=[1,2,3]\n",
    "print(\"[1,2,3] =>\" +  str(arr(inp)))\n"
   ]
  },
  {
   "cell_type": "code",
   "execution_count": 136,
   "metadata": {},
   "outputs": [
    {
     "name": "stdout",
     "output_type": "stream",
     "text": [
      "Please enter the first side of a triangle: 5\n",
      "Please enter the second side of a triangle: 6\n",
      "Please enter the third side of a triangle: 7\n",
      "14.696938456699069\n"
     ]
    }
   ],
   "source": [
    "#Write a Python Program(with class concepts) to find the area of the triangle using the below\n",
    "#formula.\n",
    "#area = (s*(s-a)*(s-b)*(s-c)) ** 0.5\n",
    "#Function to take the length of the sides of triangle from user should be defined in the parent\n",
    "#class and function to calculate the area should be defined in subclass.\n",
    "\n",
    "class triangle():\n",
    "   def __init__(self,a,b,c):\n",
    "       self.a = a\n",
    "       self.b = b\n",
    "       self.c = c\n",
    "   def area(self):\n",
    "       s=(a + b + c)/2\n",
    "       area=(s*(s-a)*(s-b)*(s-c)) ** 0.5\n",
    "       return area\n",
    "class Main():\n",
    "    a = int(input('Please enter the first side of a triangle: '))\n",
    "    b = int(input('Please enter the second side of a triangle: '))\n",
    "    c = int(input('Please enter the third side of a triangle: '))\n",
    "    t = triangle(a, b, c)\n",
    "    print(t.area())"
   ]
  },
  {
   "cell_type": "code",
   "execution_count": 137,
   "metadata": {},
   "outputs": [
    {
     "name": "stdout",
     "output_type": "stream",
     "text": [
      "word in list greater than length  5  integer ['Dilipan', 'i am happiest man']\n"
     ]
    }
   ],
   "source": [
    "#Write a function filter_long_words() that takes a list of words and an integer n and returns the list\n",
    "#of words that are longer than n.\n",
    "\n",
    "def longest_word(sequence,n):\n",
    "    for x in sequence:\n",
    "        if (len(x) > n):\n",
    "            yield(x)\n",
    "    \n",
    "k=5\n",
    "result = longest_word(['Hello','Dilipan','i am happiest man'],k)\n",
    "print('word in list greater than length ',k, ' integer',list(result))\n"
   ]
  },
  {
   "cell_type": "code",
   "execution_count": 138,
   "metadata": {},
   "outputs": [
    {
     "name": "stdout",
     "output_type": "stream",
     "text": [
      "True\n"
     ]
    }
   ],
   "source": [
    "#Write a Python function which takes a character (i.e. a string of length 1) and returns True if it is\n",
    "#a vowel, False otherwise.\n",
    "def vowels(s):\n",
    "    n=['a','e','i','o','u','A','E','I','O','U']\n",
    "    if s in n:\n",
    "        return True\n",
    "    else:\n",
    "        return False\n",
    "        \n",
    "            \n",
    "    \n",
    "k=5\n",
    "result = vowels('a')\n",
    "print(result)"
   ]
  },
  {
   "cell_type": "code",
   "execution_count": 139,
   "metadata": {},
   "outputs": [
    {
     "name": "stdout",
     "output_type": "stream",
     "text": [
      "length of each word =>  [3, 6, 7, 5]\n"
     ]
    }
   ],
   "source": [
    "#Write a Python program using function concept that maps list of words into a list of integers\n",
    "#representing the lengths of the corresponding words.\n",
    "def split(word): \n",
    "    return([len(x) for x in word])\n",
    "   \n",
    "      \n",
    "# Driver code \n",
    "word=['abs','qwerty','chennai','train']\n",
    "print(\"length of each word => \", split(word)) "
   ]
  },
  {
   "cell_type": "code",
   "execution_count": null,
   "metadata": {},
   "outputs": [],
   "source": []
  },
  {
   "cell_type": "code",
   "execution_count": null,
   "metadata": {},
   "outputs": [],
   "source": []
  }
 ],
 "metadata": {
  "kernelspec": {
   "display_name": "Python 3",
   "language": "python",
   "name": "python3"
  },
  "language_info": {
   "codemirror_mode": {
    "name": "ipython",
    "version": 3
   },
   "file_extension": ".py",
   "mimetype": "text/x-python",
   "name": "python",
   "nbconvert_exporter": "python",
   "pygments_lexer": "ipython3",
   "version": "3.7.6"
  }
 },
 "nbformat": 4,
 "nbformat_minor": 4
}
